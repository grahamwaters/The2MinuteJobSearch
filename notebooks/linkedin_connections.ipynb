{
 "cells": [
  {
   "cell_type": "code",
   "execution_count": null,
   "metadata": {},
   "outputs": [],
   "source": [
    "import pandas as pd\n",
    "import os\n",
    "import sys\n",
    "import time\n",
    "import random\n",
    "import json\n",
    "\n",
    "def get_message(message_title, variables):\n",
    "    \"\"\"\n",
    "    get_message is a function that gets a message from the message_templates.json file in the resources folder. The message is returned as a string.\n",
    "\n",
    "    Parameters for messages are included in the message_templates.json file in the resources folder. The variables for each message are included in the same json file with the three number key present in the title of the message. For example, message template one is named \"informational_interview_prospect_general_001\" and the variables that go with this message are included in the entry: \"001_vars\" in the correct order for the message. These can be inserted with the .format() method. Each all caps word must be replaced with {} before this can happen though.\n",
    "\n",
    "    :param message_title: _description_\n",
    "    :type message_title: _type_\n",
    "    :param variables: _description_\n",
    "    :type variables: _type_\n",
    "    :return: _description_\n",
    "    :rtype: _type_\n",
    "    \"\"\"\n",
    "    with open(\"../resources/message_templates.json\", \"r\") as f:\n",
    "        message_templates = json.load(f)\n",
    "    # get the message from message_templates.json\n",
    "    message = message_templates[message_title]\n",
    "    # insert the variables into the message\n",
    "    message = message.format(*variables)\n",
    "    return message\n",
    "\n",
    "# * Connecting with people via LinkedIn\n",
    "def connect_with_people(driver, lamp_df):\n",
    "    # * Process Flow\n",
    "    # connecting with users on a social media platform is tricky because you have to be careful not to get banned. To avoid getting banned, we will use a process flow that will allow us to connect with users in a way that is not suspicious.\n",
    "    # we want to respect LinkedIn and not spam it with connection requests. We will do this by connecting with users respectfully and slowly.\n",
    "    # the process flow will be as follows:\n",
    "    # we have gathered data from the harvest function and saved it to a series of csv files. We will read the csv file and loop through the rows of the csv file.\n",
    "    # for each row in the csv file, we will connect with the user.\n",
    "\n",
    "\n",
    "\n",
    "\n",
    "\n",
    "\n",
    "\n",
    "\n",
    "\n",
    "\n",
    "\n",
    "\n"
   ]
  },
  {
   "cell_type": "code",
   "execution_count": null,
   "metadata": {},
   "outputs": [],
   "source": [
    "\n",
    "\n",
    "\n"
   ]
  }
 ],
 "metadata": {
  "kernelspec": {
   "display_name": "Python 3.9.6 64-bit",
   "language": "python",
   "name": "python3"
  },
  "language_info": {
   "codemirror_mode": {
    "name": "ipython",
    "version": 3
   },
   "file_extension": ".py",
   "mimetype": "text/x-python",
   "name": "python",
   "nbconvert_exporter": "python",
   "pygments_lexer": "ipython3",
   "version": "3.9.6"
  },
  "orig_nbformat": 4,
  "vscode": {
   "interpreter": {
    "hash": "7812ea015bdcee6f23a998adcdd2ef97c151c0c241b7b7070987d9313e41299d"
   }
  }
 },
 "nbformat": 4,
 "nbformat_minor": 2
}
