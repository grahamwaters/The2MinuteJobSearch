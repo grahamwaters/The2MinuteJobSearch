{
 "cells": [
  {
   "cell_type": "code",
   "execution_count": 10,
   "metadata": {},
   "outputs": [],
   "source": [
    "# connect python with webbrowser-chrome\n",
    "# source: https://www.geeksforgeeks.org/automate-linkedin-connections-using-python/\n",
    "\n",
    "from selenium import webdriver\n",
    "import json\n",
    "import time # to control how fast the browser executes the code\n",
    "import random\n",
    "\n",
    "def detect_confirm_button(driver):\n",
    "    try:\n",
    "        # detect the confirm button and click it\n",
    "        driver.find_element_by_css_selector(\".artdeco-modal__confirm-dialog-btn\").click()\n",
    "        return True\n",
    "    except:\n",
    "        return False\n",
    "\n",
    "def login(secrets):\n",
    "    # login to LinkedIn\n",
    "    driver = webdriver.Chrome()\n",
    "    # Login to LinkedIn\n",
    "    driver.get(\"https://www.linkedin.com/login\")\n",
    "    time.sleep(random.randint(1, 3)) # sleep for 1 to 3 seconds\n",
    "    # Getting the login element\n",
    "    username = driver.find_element_by_css_selector(\"#username\")\n",
    "    # retrieve the username from secrets.json\n",
    "    username_cred = secrets['username']\n",
    "    # Sending the keys for username\n",
    "    username.send_keys(username_cred)\n",
    "    time.sleep(random.randint(1, 3)) # sleep for 1 to 3 seconds\n",
    "    # Getting the password element\n",
    "    password = driver.find_element_by_css_selector(\"#password\")\n",
    "    # retrieve the password from secrets.json\n",
    "    password_cred = secrets['password']\n",
    "    # Sending the keys for password\n",
    "    password.send_keys(password_cred)\n",
    "    time.sleep(random.randint(1, 3)) # sleep for 1 to 3 seconds\n",
    "\n",
    "    # Getting the tag for submit button\n",
    "    driver.find_element_by_css_selector(\".btn__primary--large\").click()\n",
    "    time.sleep(random.randint(4, 7)) # sleep for 4 to 7 seconds\n",
    "    detect_confirm_button(driver) # if the confirm button is present, click it\n",
    "    time.sleep(random.randint(1, 5)) # sleep for 4 to 7 seconds\n",
    "    return\n"
   ]
  },
  {
   "cell_type": "code",
   "execution_count": 11,
   "metadata": {},
   "outputs": [],
   "source": [
    "# load your credentials from secrets.json in the config folder\n",
    "with open('../config/secrets.json', encoding = 'utf-8') as f:\n",
    "    secrets = json.load(f)\n",
    "\n",
    "# login\n",
    "login(secrets)"
   ]
  },
  {
   "cell_type": "markdown",
   "metadata": {},
   "source": [
    "Now that we are logged in we can start to scrape the data. We will start by scraping the data for the first page. We will then use the next button to scrape the data for the next page and so on. We will do this until we reach the last page."
   ]
  }
 ],
 "metadata": {
  "kernelspec": {
   "display_name": "Python 3.9.6 64-bit",
   "language": "python",
   "name": "python3"
  },
  "language_info": {
   "codemirror_mode": {
    "name": "ipython",
    "version": 3
   },
   "file_extension": ".py",
   "mimetype": "text/x-python",
   "name": "python",
   "nbconvert_exporter": "python",
   "pygments_lexer": "ipython3",
   "version": "3.9.6"
  },
  "orig_nbformat": 4,
  "vscode": {
   "interpreter": {
    "hash": "7812ea015bdcee6f23a998adcdd2ef97c151c0c241b7b7070987d9313e41299d"
   }
  }
 },
 "nbformat": 4,
 "nbformat_minor": 2
}
